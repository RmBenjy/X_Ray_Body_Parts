{
 "cells": [
  {
   "cell_type": "code",
   "execution_count": 78,
   "metadata": {},
   "outputs": [],
   "source": [
    "import warnings\n",
    "import logging\n",
    "import tensorflow as tf\n",
    "import pandas as pd\n",
    "import numpy as np\n",
    "import glob\n",
    "\n",
    "# Ignore Python's warnings\n",
    "warnings.filterwarnings('ignore')\n",
    "\n",
    "# Ignore TensorFlow's warnings\n",
    "tf.get_logger().setLevel(logging.ERROR)\n",
    "\n"
   ]
  },
  {
   "cell_type": "code",
   "execution_count": 2,
   "metadata": {},
   "outputs": [],
   "source": [
    "import os\n",
    "from tensorflow.keras.preprocessing.image import ImageDataGenerator\n",
    "from tensorflow.keras.models import Sequential\n",
    "from tensorflow.keras.layers import Conv2D, MaxPooling2D, Flatten, Dense\n"
   ]
  },
  {
   "cell_type": "code",
   "execution_count": 3,
   "metadata": {},
   "outputs": [],
   "source": [
    "base_dir = 'C:\\\\Users\\\\reda-\\\\Desktop\\\\X_Ray Images'"
   ]
  },
  {
   "cell_type": "code",
   "execution_count": 4,
   "metadata": {},
   "outputs": [],
   "source": [
    "train_dir = os.path.join(base_dir,'train')\n",
    "test_dir = os.path.join(base_dir,'test')\n",
    "valid_dir = os.path.join(base_dir,'valid')"
   ]
  },
  {
   "cell_type": "code",
   "execution_count": 5,
   "metadata": {},
   "outputs": [],
   "source": [
    "img_width, img_height = 224, 224\n",
    "input_shape = (img_width, img_height, 1) \n",
    "num_classes = 13  # Number of subfolders"
   ]
  },
  {
   "cell_type": "code",
   "execution_count": 76,
   "metadata": {},
   "outputs": [],
   "source": [
    "# Data Augmentation\n",
    "train_datagen = ImageDataGenerator(\n",
    "    rescale = 1.0/255.0,\n",
    "    shear_range = 0.2,\n",
    "    zoom_range = 0.2,\n",
    "    horizontal_flip=True\n",
    "    \n",
    ")\n",
    "\n",
    "test_datagen = ImageDataGenerator(rescale = 1.0/255.0)"
   ]
  },
  {
   "cell_type": "code",
   "execution_count": 7,
   "metadata": {},
   "outputs": [
    {
     "name": "stdout",
     "output_type": "stream",
     "text": [
      "Found 1543 images belonging to 13 classes.\n"
     ]
    }
   ],
   "source": [
    "# Load training data\n",
    "train_generator = train_datagen.flow_from_directory(\n",
    "    train_dir,\n",
    "    target_size = (img_width, img_height),\n",
    "    batch_size = 32,\n",
    "    class_mode = 'categorical'\n",
    ")"
   ]
  },
  {
   "cell_type": "code",
   "execution_count": 77,
   "metadata": {},
   "outputs": [
    {
     "name": "stdout",
     "output_type": "stream",
     "text": [
      "Found 221 images belonging to 13 classes.\n"
     ]
    }
   ],
   "source": [
    "# Load testing data\n",
    "test_generator = test_datagen.flow_from_directory(\n",
    "    test_dir,\n",
    "    target_size = (img_width, img_height),\n",
    "    batch_size = 32,\n",
    "    class_mode='categorical',\n",
    "    shuffle=False\n",
    ")"
   ]
  },
  {
   "cell_type": "code",
   "execution_count": 9,
   "metadata": {},
   "outputs": [
    {
     "name": "stdout",
     "output_type": "stream",
     "text": [
      "Found 439 images belonging to 13 classes.\n"
     ]
    }
   ],
   "source": [
    "# Load testing data\n",
    "valid_generator = test_datagen.flow_from_directory(\n",
    "    valid_dir,\n",
    "    target_size = (img_width, img_height),\n",
    "    batch_size = 32,\n",
    "    class_mode='categorical',\n",
    ")"
   ]
  },
  {
   "cell_type": "code",
   "execution_count": 10,
   "metadata": {},
   "outputs": [],
   "source": [
    "# CNN Model\n",
    "model = Sequential()\n",
    "model.add(Conv2D(32, (3, 3), strides=(1, 1), padding='same', activation='relu', input_shape=(224, 224, 3), groups=1))\n",
    "model.add(MaxPooling2D((2, 2)))\n",
    "model.add(Conv2D(64, (3, 3), strides=(1, 1), padding='same', activation='relu', groups=1))\n",
    "model.add(MaxPooling2D((2, 2)))\n",
    "model.add(Conv2D(128, (3, 3), strides=(1, 1), padding='same', activation='relu', groups=1))\n",
    "model.add(MaxPooling2D((2, 2)))\n",
    "model.add(Flatten())\n",
    "model.add(Dense(128, activation='relu'))\n",
    "model.add(Dense(num_classes, activation='softmax'))\n"
   ]
  },
  {
   "cell_type": "code",
   "execution_count": 11,
   "metadata": {},
   "outputs": [],
   "source": [
    "# Compile the model\n",
    "model.compile(optimizer='adam', loss='categorical_crossentropy', metrics=['accuracy'])\n"
   ]
  },
  {
   "cell_type": "code",
   "execution_count": 14,
   "metadata": {},
   "outputs": [
    {
     "name": "stdout",
     "output_type": "stream",
     "text": [
      "Epoch 1/10\n",
      "49/49 [==============================] - 38s 751ms/step - loss: 1.9004 - accuracy: 0.4666 - val_loss: 1.2709 - val_accuracy: 0.6036\n",
      "Epoch 2/10\n",
      "49/49 [==============================] - 36s 727ms/step - loss: 1.2040 - accuracy: 0.6487 - val_loss: 0.9085 - val_accuracy: 0.7312\n",
      "Epoch 3/10\n",
      "49/49 [==============================] - 36s 728ms/step - loss: 1.0427 - accuracy: 0.6896 - val_loss: 0.8454 - val_accuracy: 0.7631\n",
      "Epoch 4/10\n",
      "49/49 [==============================] - 38s 764ms/step - loss: 0.9247 - accuracy: 0.7278 - val_loss: 0.7511 - val_accuracy: 0.7904\n",
      "Epoch 5/10\n",
      "49/49 [==============================] - 38s 767ms/step - loss: 0.8812 - accuracy: 0.7440 - val_loss: 0.7837 - val_accuracy: 0.7927\n",
      "Epoch 6/10\n",
      "49/49 [==============================] - 59s 1s/step - loss: 0.7451 - accuracy: 0.7764 - val_loss: 0.7792 - val_accuracy: 0.7631\n",
      "Epoch 7/10\n",
      "49/49 [==============================] - 58s 1s/step - loss: 0.7094 - accuracy: 0.7907 - val_loss: 0.7503 - val_accuracy: 0.7745\n",
      "Epoch 8/10\n",
      "49/49 [==============================] - 37s 751ms/step - loss: 0.6647 - accuracy: 0.7997 - val_loss: 0.6879 - val_accuracy: 0.7927\n",
      "Epoch 9/10\n",
      "49/49 [==============================] - 38s 775ms/step - loss: 0.6436 - accuracy: 0.8062 - val_loss: 0.7369 - val_accuracy: 0.7836\n",
      "Epoch 10/10\n",
      "49/49 [==============================] - 41s 832ms/step - loss: 0.6129 - accuracy: 0.8205 - val_loss: 0.6659 - val_accuracy: 0.8018\n"
     ]
    },
    {
     "data": {
      "text/plain": [
       "<keras.src.callbacks.History at 0x1e24de5b9d0>"
      ]
     },
     "execution_count": 14,
     "metadata": {},
     "output_type": "execute_result"
    }
   ],
   "source": [
    "# Train the model\n",
    "\n",
    "model.fit(train_generator, epochs=10, validation_data=valid_generator)\n"
   ]
  },
  {
   "cell_type": "code",
   "execution_count": 46,
   "metadata": {},
   "outputs": [
    {
     "name": "stdout",
     "output_type": "stream",
     "text": [
      "7/7 [==============================] - 1s 128ms/step - loss: 0.7342 - accuracy: 0.7602\n",
      "Accuracy on test set: 76.02%\n"
     ]
    }
   ],
   "source": [
    "accuracy = model.evaluate(test_generator)\n",
    "print(\"Accuracy on test set: {:.2f}%\".format(accuracy[1] * 100))"
   ]
  },
  {
   "cell_type": "code",
   "execution_count": 27,
   "metadata": {},
   "outputs": [],
   "source": [
    "import matplotlib.pyplot as plt\n",
    "import matplotlib.image as mpimg\n",
    "from tensorflow.keras.preprocessing import image as image_utils"
   ]
  },
  {
   "cell_type": "code",
   "execution_count": 28,
   "metadata": {},
   "outputs": [
    {
     "name": "stdout",
     "output_type": "stream",
     "text": [
      "Model: \"sequential\"\n",
      "_________________________________________________________________\n",
      " Layer (type)                Output Shape              Param #   \n",
      "=================================================================\n",
      " conv2d (Conv2D)             (None, 224, 224, 32)      896       \n",
      "                                                                 \n",
      " max_pooling2d (MaxPooling2  (None, 112, 112, 32)      0         \n",
      " D)                                                              \n",
      "                                                                 \n",
      " conv2d_1 (Conv2D)           (None, 112, 112, 64)      18496     \n",
      "                                                                 \n",
      " max_pooling2d_1 (MaxPoolin  (None, 56, 56, 64)        0         \n",
      " g2D)                                                            \n",
      "                                                                 \n",
      " conv2d_2 (Conv2D)           (None, 56, 56, 128)       73856     \n",
      "                                                                 \n",
      " max_pooling2d_2 (MaxPoolin  (None, 28, 28, 128)       0         \n",
      " g2D)                                                            \n",
      "                                                                 \n",
      " flatten (Flatten)           (None, 100352)            0         \n",
      "                                                                 \n",
      " dense (Dense)               (None, 128)               12845184  \n",
      "                                                                 \n",
      " dense_1 (Dense)             (None, 13)                1677      \n",
      "                                                                 \n",
      "=================================================================\n",
      "Total params: 12940109 (49.36 MB)\n",
      "Trainable params: 12940109 (49.36 MB)\n",
      "Non-trainable params: 0 (0.00 Byte)\n",
      "_________________________________________________________________\n"
     ]
    }
   ],
   "source": [
    "model.summary()\n"
   ]
  },
  {
   "cell_type": "code",
   "execution_count": 85,
   "metadata": {},
   "outputs": [],
   "source": [
    "class_labels = [\"bassin\",\"cheville\",\"colonne_vertebrale\", \"cou\", \"coude\", \"epaule\", \"genou\", \"jambe\", \"main\", \"pectoral poitrine\", \"pied\", \"poignet\", \"tete\"]\n"
   ]
  },
  {
   "cell_type": "code",
   "execution_count": 88,
   "metadata": {},
   "outputs": [],
   "source": [
    "def show_image_with_prediction(image_path, predicted_body_part):\n",
    "    display(Image(filename=image_path, width=600))\n"
   ]
  },
  {
   "cell_type": "code",
   "execution_count": 94,
   "metadata": {},
   "outputs": [
    {
     "name": "stdout",
     "output_type": "stream",
     "text": [
      "7/7 [==============================] - 1s 144ms/step\n",
      "Chemin : C:\\Users\\reda-\\Desktop\\X_Ray Images\\test\\colonne_vertebrale\\1-2-826-0-1-3680043-8-498-59113893969561724980199447804671753951-c_png_jpg.rf.ce19b992402e72e0d70a9ef9f1014243.jpg\n",
      "Vraie étiquette : colonne_vertebrale\n",
      "Prédiction du modèle : colonne_vertebrale\n",
      "Confiance du modèle : 99.02%\n",
      "\n"
     ]
    },
    {
     "data": {
      "image/jpeg": "[encoded data removed]",
      "text/plain": [
       "<IPython.core.display.Image object>"
      ]
     },
     "metadata": {
      "image/jpeg": {
       "width": 600
      }
     },
     "output_type": "display_data"
    }
   ],
   "source": [
    "\n",
    "\n",
    "\n",
    "\n",
    "# Faites des prédictions pour chaque lot d'images\n",
    "predictions = model.predict(test_generator)\n",
    "\n",
    "# Obtenez les indices de classe prédits pour chaque image\n",
    "predicted_class_indices = np.argmax(predictions, axis=1)\n",
    "\n",
    "# Obtenez les noms de classe correspondant aux indices\n",
    "predicted_class_labels = [class_labels[i] for i in predicted_class_indices]\n",
    "\n",
    "# Obtenez les pourcentages de confiance du modèle pour chaque prédiction\n",
    "confidence_percentages = np.max(predictions, axis=1) * 100\n",
    "\n",
    "# Créez un dataframe pour stocker les informations\n",
    "df_results = pd.DataFrame({\n",
    "    'Image': test_generator.filepaths,\n",
    "    'Vraie étiquette': [class_labels[i] for i in test_generator.classes],\n",
    "    'Prédiction du modèle': predicted_class_labels,\n",
    "    'Confiance (%)': confidence_percentages\n",
    "})\n",
    "\n",
    "# Sélectionnez une seule image aléatoire\n",
    "random_row = df_results.sample()\n",
    "\n",
    "# Affichez l'image avec ses prédictions et pourcentage de confiance\n",
    "image_path = random_row['Image'].values[0]\n",
    "predicted_label = random_row['Prédiction du modèle'].values[0]\n",
    "confidence_percentage = random_row['Confiance (%)'].values[0]\n",
    "\n",
    "print(f\"Chemin : {image_path}\")\n",
    "print(f\"Vraie étiquette : {random_row['Vraie étiquette'].values[0]}\")\n",
    "print(f\"Prédiction du modèle : {predicted_label}\")\n",
    "print(f\"Confiance du modèle : {confidence_percentage:.2f}%\\n\")\n",
    "show_image_with_prediction(image_path, predicted_label)\n"
   ]
  },
  {
   "cell_type": "code",
   "execution_count": null,
   "metadata": {},
   "outputs": [],
   "source": []
  }
 ],
 "metadata": {
  "kernelspec": {
   "display_name": "Python 3",
   "language": "python",
   "name": "python3"
  },
  "language_info": {
   "codemirror_mode": {
    "name": "ipython",
    "version": 3
   },
   "file_extension": ".py",
   "mimetype": "text/x-python",
   "name": "python",
   "nbconvert_exporter": "python",
   "pygments_lexer": "ipython3",
   "version": "3.11.2"
  }
 },
 "nbformat": 4,
 "nbformat_minor": 2
}
