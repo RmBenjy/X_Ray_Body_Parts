{
 "cells": [
  {
   "cell_type": "code",
   "execution_count": 7,
   "metadata": {},
   "outputs": [],
   "source": [
    "import warnings\n",
    "import logging\n",
    "import tensorflow as tf\n",
    "import pandas as pd\n",
    "import numpy as np\n",
    "from IPython.display import display, Image\n",
    "\n",
    "# Ignore Python's warnings\n",
    "warnings.filterwarnings('ignore')\n",
    "\n",
    "# Ignore TensorFlow's warnings\n",
    "tf.get_logger().setLevel(logging.ERROR)\n",
    "\n"
   ]
  },
  {
   "cell_type": "code",
   "execution_count": 2,
   "metadata": {},
   "outputs": [],
   "source": [
    "import os\n",
    "from tensorflow.keras.preprocessing.image import ImageDataGenerator\n",
    "from tensorflow.keras.models import Sequential\n",
    "from tensorflow.keras.layers import Conv2D, MaxPooling2D, Flatten, Dense\n"
   ]
  },
  {
   "cell_type": "code",
   "execution_count": 3,
   "metadata": {},
   "outputs": [],
   "source": [
    "base_dir = 'C:\\\\Users\\\\reda-\\\\Desktop\\\\X_Ray Images'"
   ]
  },
  {
   "cell_type": "code",
   "execution_count": 4,
   "metadata": {},
   "outputs": [],
   "source": [
    "train_dir = os.path.join(base_dir,'train')\n",
    "test_dir = os.path.join(base_dir,'test')\n",
    "valid_dir = os.path.join(base_dir,'valid')"
   ]
  },
  {
   "cell_type": "code",
   "execution_count": 5,
   "metadata": {},
   "outputs": [],
   "source": [
    "img_width, img_height = 224, 224\n",
    "input_shape = (img_width, img_height, 1) \n",
    "num_classes = 13  # Number of subfolders"
   ]
  },
  {
   "cell_type": "code",
   "execution_count": 6,
   "metadata": {},
   "outputs": [],
   "source": [
    "# Data Augmentation\n",
    "train_datagen = ImageDataGenerator(\n",
    "    rescale = 1.0/255.0,\n",
    "    shear_range = 0.2,\n",
    "    zoom_range = 0.2,\n",
    "    horizontal_flip=True\n",
    "    \n",
    ")\n",
    "\n",
    "test_datagen = ImageDataGenerator(rescale = 1.0/255.0)"
   ]
  },
  {
   "cell_type": "code",
   "execution_count": 8,
   "metadata": {},
   "outputs": [
    {
     "name": "stdout",
     "output_type": "stream",
     "text": [
      "Found 1543 images belonging to 13 classes.\n"
     ]
    }
   ],
   "source": [
    "# Load training data\n",
    "train_generator = train_datagen.flow_from_directory(\n",
    "    train_dir,\n",
    "    target_size = (img_width, img_height),\n",
    "    batch_size = 32,\n",
    "    class_mode = 'categorical'\n",
    ")"
   ]
  },
  {
   "cell_type": "code",
   "execution_count": 9,
   "metadata": {},
   "outputs": [
    {
     "name": "stdout",
     "output_type": "stream",
     "text": [
      "Found 221 images belonging to 13 classes.\n"
     ]
    }
   ],
   "source": [
    "# Load testing data\n",
    "test_generator = test_datagen.flow_from_directory(\n",
    "    test_dir,\n",
    "    target_size = (img_width, img_height),\n",
    "    batch_size = 32,\n",
    "    class_mode='categorical',\n",
    "    shuffle=False\n",
    ")"
   ]
  },
  {
   "cell_type": "code",
   "execution_count": 10,
   "metadata": {},
   "outputs": [
    {
     "name": "stdout",
     "output_type": "stream",
     "text": [
      "Found 439 images belonging to 13 classes.\n"
     ]
    }
   ],
   "source": [
    "# Load testing data\n",
    "valid_generator = test_datagen.flow_from_directory(\n",
    "    valid_dir,\n",
    "    target_size = (img_width, img_height),\n",
    "    batch_size = 32,\n",
    "    class_mode='categorical',\n",
    ")"
   ]
  },
  {
   "cell_type": "code",
   "execution_count": 11,
   "metadata": {},
   "outputs": [],
   "source": [
    "# CNN Model\n",
    "model = Sequential()\n",
    "model.add(Conv2D(32, (3, 3), strides=(1, 1), padding='same', activation='relu', input_shape=(224, 224, 3), groups=1))\n",
    "model.add(MaxPooling2D((2, 2)))\n",
    "model.add(Conv2D(64, (3, 3), strides=(1, 1), padding='same', activation='relu', groups=1))\n",
    "model.add(MaxPooling2D((2, 2)))\n",
    "model.add(Conv2D(128, (3, 3), strides=(1, 1), padding='same', activation='relu', groups=1))\n",
    "model.add(MaxPooling2D((2, 2)))\n",
    "model.add(Flatten())\n",
    "model.add(Dense(128, activation='relu'))\n",
    "model.add(Dense(num_classes, activation='softmax'))\n"
   ]
  },
  {
   "cell_type": "code",
   "execution_count": 12,
   "metadata": {},
   "outputs": [],
   "source": [
    "# Compile the model\n",
    "model.compile(optimizer='adam', loss='categorical_crossentropy', metrics=['accuracy'])\n"
   ]
  },
  {
   "cell_type": "code",
   "execution_count": 13,
   "metadata": {},
   "outputs": [
    {
     "name": "stdout",
     "output_type": "stream",
     "text": [
      "Epoch 1/25\n",
      "49/49 [==============================] - 40s 776ms/step - loss: 1.8458 - accuracy: 0.4750 - val_loss: 1.3727 - val_accuracy: 0.5809\n",
      "Epoch 2/25\n",
      "49/49 [==============================] - 52s 1s/step - loss: 1.2569 - accuracy: 0.6209 - val_loss: 0.9955 - val_accuracy: 0.7221\n",
      "Epoch 3/25\n",
      "49/49 [==============================] - 64s 1s/step - loss: 1.0652 - accuracy: 0.6773 - val_loss: 0.9379 - val_accuracy: 0.7517\n",
      "Epoch 4/25\n",
      "49/49 [==============================] - 64s 1s/step - loss: 0.9803 - accuracy: 0.7006 - val_loss: 0.8238 - val_accuracy: 0.7494\n",
      "Epoch 5/25\n",
      "49/49 [==============================] - 59s 1s/step - loss: 0.9252 - accuracy: 0.7181 - val_loss: 0.7863 - val_accuracy: 0.7790\n",
      "Epoch 6/25\n",
      "49/49 [==============================] - 62s 1s/step - loss: 0.7802 - accuracy: 0.7641 - val_loss: 0.7721 - val_accuracy: 0.7813\n",
      "Epoch 7/25\n",
      "49/49 [==============================] - 63s 1s/step - loss: 0.7027 - accuracy: 0.7816 - val_loss: 0.7172 - val_accuracy: 0.8064\n",
      "Epoch 8/25\n",
      "49/49 [==============================] - 63s 1s/step - loss: 0.6262 - accuracy: 0.8023 - val_loss: 0.7867 - val_accuracy: 0.7677\n",
      "Epoch 9/25\n",
      "49/49 [==============================] - 62s 1s/step - loss: 0.6045 - accuracy: 0.8218 - val_loss: 0.7611 - val_accuracy: 0.7722\n",
      "Epoch 10/25\n",
      "49/49 [==============================] - 62s 1s/step - loss: 0.5547 - accuracy: 0.8270 - val_loss: 0.7339 - val_accuracy: 0.8109\n",
      "Epoch 11/25\n",
      "49/49 [==============================] - 73s 1s/step - loss: 0.4987 - accuracy: 0.8412 - val_loss: 0.6944 - val_accuracy: 0.8132\n",
      "Epoch 12/25\n",
      "49/49 [==============================] - 73s 1s/step - loss: 0.5022 - accuracy: 0.8425 - val_loss: 0.7741 - val_accuracy: 0.7995\n",
      "Epoch 13/25\n",
      "49/49 [==============================] - 75s 2s/step - loss: 0.4318 - accuracy: 0.8678 - val_loss: 0.7104 - val_accuracy: 0.8178\n",
      "Epoch 14/25\n",
      "49/49 [==============================] - 74s 2s/step - loss: 0.4323 - accuracy: 0.8671 - val_loss: 0.6986 - val_accuracy: 0.8269\n",
      "Epoch 15/25\n",
      "49/49 [==============================] - 75s 2s/step - loss: 0.3692 - accuracy: 0.8814 - val_loss: 0.6869 - val_accuracy: 0.8246\n",
      "Epoch 16/25\n",
      "49/49 [==============================] - 74s 2s/step - loss: 0.3988 - accuracy: 0.8859 - val_loss: 0.6506 - val_accuracy: 0.8383\n",
      "Epoch 17/25\n",
      "49/49 [==============================] - 75s 2s/step - loss: 0.2920 - accuracy: 0.9112 - val_loss: 0.6438 - val_accuracy: 0.8405\n",
      "Epoch 18/25\n",
      "49/49 [==============================] - 64s 1s/step - loss: 0.2916 - accuracy: 0.9177 - val_loss: 0.7755 - val_accuracy: 0.8200\n",
      "Epoch 19/25\n",
      "49/49 [==============================] - 74s 1s/step - loss: 0.2706 - accuracy: 0.9203 - val_loss: 0.7535 - val_accuracy: 0.8428\n",
      "Epoch 20/25\n",
      "49/49 [==============================] - 74s 2s/step - loss: 0.2793 - accuracy: 0.9170 - val_loss: 0.7616 - val_accuracy: 0.8269\n",
      "Epoch 21/25\n",
      "49/49 [==============================] - 76s 2s/step - loss: 0.2317 - accuracy: 0.9294 - val_loss: 0.8005 - val_accuracy: 0.8178\n",
      "Epoch 22/25\n",
      "49/49 [==============================] - 75s 2s/step - loss: 0.2145 - accuracy: 0.9300 - val_loss: 0.7644 - val_accuracy: 0.8200\n",
      "Epoch 23/25\n",
      "49/49 [==============================] - 76s 2s/step - loss: 0.2114 - accuracy: 0.9352 - val_loss: 0.7945 - val_accuracy: 0.8269\n",
      "Epoch 24/25\n",
      "49/49 [==============================] - 76s 2s/step - loss: 0.1901 - accuracy: 0.9371 - val_loss: 0.7159 - val_accuracy: 0.8451\n",
      "Epoch 25/25\n",
      "49/49 [==============================] - 71s 1s/step - loss: 0.1655 - accuracy: 0.9475 - val_loss: 0.7793 - val_accuracy: 0.8269\n"
     ]
    },
    {
     "data": {
      "text/plain": [
       "<keras.src.callbacks.History at 0x1dba70ba850>"
      ]
     },
     "execution_count": 13,
     "metadata": {},
     "output_type": "execute_result"
    }
   ],
   "source": [
    "# Train the model\n",
    "\n",
    "model.fit(train_generator, epochs=25, validation_data=valid_generator)\n"
   ]
  },
  {
   "cell_type": "code",
   "execution_count": 16,
   "metadata": {},
   "outputs": [
    {
     "name": "stdout",
     "output_type": "stream",
     "text": [
      "7/7 [==============================] - 2s 192ms/step - loss: 0.9705 - accuracy: 0.7964\n",
      "Accuracy on test set: 79.64%\n"
     ]
    }
   ],
   "source": [
    "accuracy = model.evaluate(test_generator)\n",
    "print(\"Accuracy on test set: {:.2f}%\".format(accuracy[1] * 100))"
   ]
  },
  {
   "cell_type": "code",
   "execution_count": 17,
   "metadata": {},
   "outputs": [
    {
     "name": "stdout",
     "output_type": "stream",
     "text": [
      "Model: \"sequential\"\n",
      "_________________________________________________________________\n",
      " Layer (type)                Output Shape              Param #   \n",
      "=================================================================\n",
      " conv2d (Conv2D)             (None, 224, 224, 32)      896       \n",
      "                                                                 \n",
      " max_pooling2d (MaxPooling2  (None, 112, 112, 32)      0         \n",
      " D)                                                              \n",
      "                                                                 \n",
      " conv2d_1 (Conv2D)           (None, 112, 112, 64)      18496     \n",
      "                                                                 \n",
      " max_pooling2d_1 (MaxPoolin  (None, 56, 56, 64)        0         \n",
      " g2D)                                                            \n",
      "                                                                 \n",
      " conv2d_2 (Conv2D)           (None, 56, 56, 128)       73856     \n",
      "                                                                 \n",
      " max_pooling2d_2 (MaxPoolin  (None, 28, 28, 128)       0         \n",
      " g2D)                                                            \n",
      "                                                                 \n",
      " flatten (Flatten)           (None, 100352)            0         \n",
      "                                                                 \n",
      " dense (Dense)               (None, 128)               12845184  \n",
      "                                                                 \n",
      " dense_1 (Dense)             (None, 13)                1677      \n",
      "                                                                 \n",
      "=================================================================\n",
      "Total params: 12940109 (49.36 MB)\n",
      "Trainable params: 12940109 (49.36 MB)\n",
      "Non-trainable params: 0 (0.00 Byte)\n",
      "_________________________________________________________________\n"
     ]
    }
   ],
   "source": [
    "model.summary()\n"
   ]
  },
  {
   "cell_type": "code",
   "execution_count": 18,
   "metadata": {},
   "outputs": [],
   "source": [
    "class_labels = [\"pelvis\", \"ankle\", \"spine\", \"neck\", \"elbow\", \"shoulder\", \"knee\", \"leg\", \"hand\", \"pectoral chest\", \"foot\", \"wrist\", \"head\"]"
   ]
  },
  {
   "cell_type": "code",
   "execution_count": 19,
   "metadata": {},
   "outputs": [],
   "source": [
    "def show_image_with_prediction(image_path, predicted_body_part):\n",
    "    display(Image(filename=image_path, width=600))\n"
   ]
  },
  {
   "cell_type": "code",
   "execution_count": 20,
   "metadata": {},
   "outputs": [
    {
     "name": "stdout",
     "output_type": "stream",
     "text": [
      "7/7 [==============================] - 2s 211ms/step\n",
      "Path : C:\\Users\\reda-\\Desktop\\X_Ray Images\\test\\pectoral poitrine\\1-2-826-0-1-3680043-8-498-49569514187101813908206599366725265813-c_png_jpg.rf.da6042d889d518aa8b35e8523e7169e5.jpg\n",
      "Real Label : pectoral chest\n",
      "Model prediction : pectoral chest\n",
      "Model confidence : 100.00%\n",
      "\n"
     ]
    },
    {
     "data": {
      "image/jpeg": "[encoded data removed]",
      "text/plain": [
       "<IPython.core.display.Image object>"
      ]
     },
     "metadata": {
      "image/jpeg": {
       "width": 600
      }
     },
     "output_type": "display_data"
    }
   ],
   "source": [
    "# Make predictions for each batch of images\n",
    "predictions = model.predict(test_generator)\n",
    "\n",
    "# Get the predicted class indices for each image\n",
    "predicted_class_indices = np.argmax(predictions, axis=1)\n",
    "\n",
    "# Get class names matching indices\n",
    "predicted_class_labels = [class_labels[i] for i in predicted_class_indices]\n",
    "\n",
    "# Get model confidence percentages for each prediction\n",
    "confidence_percentages = np.max(predictions, axis=1) * 100\n",
    "\n",
    "# Create a dataframe to store information\n",
    "df_results = pd.DataFrame({\n",
    "    'Image': test_generator.filepaths,\n",
    "    'Real Label': [class_labels[i] for i in test_generator.classes],\n",
    "    'Model prediction': predicted_class_labels,\n",
    "    'Confidence (%)': confidence_percentages\n",
    "})\n",
    "\n",
    "# Select a single random image\n",
    "random_row = df_results.sample()\n",
    "\n",
    "# Display the image with its predictions and confidence percentage\n",
    "image_path = random_row['Image'].values[0]\n",
    "predicted_label = random_row['Model prediction'].values[0]\n",
    "confidence_percentage = random_row['Confidence (%)'].values[0]\n",
    "\n",
    "print(f\"Path : {image_path}\")\n",
    "print(f\"Real Label : {random_row['Real Label'].values[0]}\")\n",
    "print(f\"Model prediction : {predicted_label}\")\n",
    "print(f\"Model confidence : {confidence_percentage:.2f}%\\n\")\n",
    "show_image_with_prediction(image_path, predicted_label)\n"
   ]
  },
  {
   "cell_type": "code",
   "execution_count": null,
   "metadata": {},
   "outputs": [],
   "source": []
  }
 ],
 "metadata": {
  "kernelspec": {
   "display_name": "Python 3",
   "language": "python",
   "name": "python3"
  },
  "language_info": {
   "codemirror_mode": {
    "name": "ipython",
    "version": 3
   },
   "file_extension": ".py",
   "mimetype": "text/x-python",
   "name": "python",
   "nbconvert_exporter": "python",
   "pygments_lexer": "ipython3",
   "version": "3.11.2"
  }
 },
 "nbformat": 4,
 "nbformat_minor": 2
}
